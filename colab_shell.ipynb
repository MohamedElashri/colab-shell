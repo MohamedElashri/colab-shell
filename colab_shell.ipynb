{
  "nbformat": 4,
  "nbformat_minor": 0,
  "metadata": {
    "colab": {
      "name": "colab-shell.ipynb",
      "provenance": [],
      "authorship_tag": "ABX9TyP87NVPEtGAm7XGxlYl/RzJ",
      "include_colab_link": true
    },
    "kernelspec": {
      "name": "python3",
      "display_name": "Python 3"
    },
    "language_info": {
      "name": "python"
    }
  },
  "cells": [
    {
      "cell_type": "markdown",
      "metadata": {
        "id": "view-in-github",
        "colab_type": "text"
      },
      "source": [
        "<a href=\"https://colab.research.google.com/github/MohamedElashri/colab-shell/blob/main/colab_shell.ipynb\" target=\"_parent\"><img src=\"https://colab.research.google.com/assets/colab-badge.svg\" alt=\"Open In Colab\"/></a>"
      ]
    },
    {
      "cell_type": "code",
      "execution_count": null,
      "metadata": {
        "colab": {
          "base_uri": "https://localhost:8080/"
        },
        "id": "AGZVcG4zGJiT",
        "outputId": "d1aca86d-5f02-4113-be24-f903ad163148"
      },
      "outputs": [
        {
          "output_type": "stream",
          "name": "stdout",
          "text": [
            "Collecting git+https://github.com/MohamedElashri/colab-shell\n",
            "  Cloning https://github.com/MohamedElashri/colab-shell to /tmp/pip-req-build-8ah60xpa\n",
            "  Running command git clone -q https://github.com/MohamedElashri/colab-shell /tmp/pip-req-build-8ah60xpa\n",
            "Building wheels for collected packages: colab-shell\n",
            "  Building wheel for colab-shell (setup.py) ... \u001b[?25l\u001b[?25hdone\n",
            "  Created wheel for colab-shell: filename=colab_shell-0.0.1-py3-none-any.whl size=1731 sha256=bcf36c21bdfdbffe31b3ff86be89e2bf447d4cbeeaa8ff6f3ffc6479a7d3db7f\n",
            "  Stored in directory: /tmp/pip-ephem-wheel-cache-yq_f29ha/wheels/3c/37/74/50f7e80daba9eab91b0345af129bf02b7b062f84e0f917c24d\n",
            "Successfully built colab-shell\n",
            "Installing collected packages: colab-shell\n",
            "Successfully installed colab-shell-0.0.1\n"
          ]
        }
      ],
      "source": [
        "!pip install git+https://github.com/MohamedElashri/colab-shell\n"
      ]
    },
    {
      "cell_type": "code",
      "source": [
        "from colab_shell import getshell\n"
      ],
      "metadata": {
        "id": "O0qy3YP6Tb-y"
      },
      "execution_count": null,
      "outputs": []
    },
    {
      "cell_type": "code",
      "source": [
        "getshell(height=500)"
      ],
      "metadata": {
        "colab": {
          "base_uri": "https://localhost:8080/",
          "height": 517
        },
        "id": "mN0QgRx6Un_7",
        "outputId": "60244752-edd5-4d11-8718-a56239d75a0c"
      },
      "execution_count": null,
      "outputs": [
        {
          "output_type": "execute_result",
          "data": {
            "text/html": [
              "<div id=colab_shell></div>\n",
              "<script src=\"https://code.jquery.com/jquery-latest.js\"></script>\n",
              "<script src=\"https://cdn.jsdelivr.net/npm/jquery.terminal/js/jquery.terminal.min.js\"></script>\n",
              "<link href=\"https://cdn.jsdelivr.net/npm/jquery.terminal/css/jquery.terminal.min.css\" rel=\"stylesheet\"/>\n",
              "<script>\n",
              "   $('#colab_shell').terminal(async function(command) {\n",
              "       if (command !== '') {\n",
              "           try {\n",
              "               let res = await google.colab.kernel.invokeFunction('shell', [command])\n",
              "               let out = res.data['application/json'][0]\n",
              "               this.echo(new String(out))\n",
              "           } catch(e) {\n",
              "               this.error(new String(e));\n",
              "           }\n",
              "       } else {\n",
              "           this.echo(\n",
              "               );\n",
              "       }\n",
              "   }, {\n",
              "       greetings: 'Welcome to Google Colab Shell!',\n",
              "       name: 'colab_shell',\n",
              "       height: 500,\n",
              "       prompt: '█$ colab>>\\t'\n",
              "   });\n",
              "</script>"
            ],
            "text/plain": [
              "<IPython.core.display.HTML object>"
            ]
          },
          "metadata": {},
          "execution_count": 5
        }
      ]
    }
  ]
}